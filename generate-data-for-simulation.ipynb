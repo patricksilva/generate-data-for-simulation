{
 "cells": [
  {
   "cell_type": "markdown",
   "id": "6e2e4d36-6bf7-4e4a-8b4a-97f46154c519",
   "metadata": {},
   "source": [
    "# Generate Data"
   ]
  },
  {
   "cell_type": "code",
   "execution_count": 1,
   "id": "7090e2ff-4279-4105-9cec-242ed3ef7c42",
   "metadata": {},
   "outputs": [],
   "source": [
    "from faker import Faker\n",
    "from faker.providers import *"
   ]
  },
  {
   "cell_type": "code",
   "execution_count": 2,
   "id": "7eafb7f4-362a-483c-aa1b-2c1a4effb8d8",
   "metadata": {},
   "outputs": [],
   "source": [
    "fake = Faker()"
   ]
  },
  {
   "cell_type": "code",
   "execution_count": null,
   "id": "b01cc7ed-bed3-4c75-9e05-703b6011e6fb",
   "metadata": {},
   "outputs": [],
   "source": [
    "fake.add_provider(internet)\n",
    "fake.add_provider(address)\n",
    "fake.add_provider(automotive)\n",
    "fake.add_provider(bank)\n",
    "fake.add_provider(barcode)\n",
    "fake.add_provider(color)\n",
    "fake.add_provider(company)\n",
    "fake.add_provider(credit_card)\n",
    "fake.add_provider(currency)\n",
    "fake.add_provider(date_time)\n",
    "fake.add_provider(file)\n",
    "fake.add_provider(geo)\n",
    "fake.add_provider(internet)\n",
    "fake.add_provider(isbn)\n",
    "fake.add_provider(job)\n",
    "fake.add_provider(lorem)\n",
    "fake.add_provider(misc)\n",
    "fake.add_provider(person)\n",
    "fake.add_provider(phone_number)\n",
    "fake.add_provider(profile)\n",
    "fake.add_provider(python)\n",
    "fake.add_provider(ssn)\n",
    "fake.add_provider(user_agent)"
   ]
  },
  {
   "cell_type": "markdown",
   "id": "5346f026-d378-47f9-8ab2-ebb132eb3fb1",
   "metadata": {},
   "source": [
    "## Parameters"
   ]
  },
  {
   "cell_type": "code",
   "execution_count": 6,
   "id": "739fdb82-59dd-415a-bf3a-3bd516220e9f",
   "metadata": {},
   "outputs": [
    {
     "name": "stdout",
     "output_type": "stream",
     "text": [
      "6\n"
     ]
    }
   ],
   "source": [
    "n = 16 * (10 ** 7)\n",
    "n = 6\n",
    "print(n)"
   ]
  },
  {
   "cell_type": "markdown",
   "id": "5d5670c8-9032-49f9-ab61-7c0eb8203e07",
   "metadata": {},
   "source": [
    "## Dynamic list generator"
   ]
  },
  {
   "cell_type": "code",
   "execution_count": 7,
   "id": "89d0fa94-57e5-464d-b77b-9a439849b77e",
   "metadata": {},
   "outputs": [
    {
     "name": "stdout",
     "output_type": "stream",
     "text": [
      "column_field_feature_001 = []\n",
      "column_field_feature_002 = []\n",
      "column_field_feature_003 = []\n",
      "column_field_feature_004 = []\n",
      "column_field_feature_005 = []\n"
     ]
    }
   ],
   "source": [
    "for i in range( 1, n ):\n",
    "    print(\"column_field_feature_\" + str(i).zfill(3) + \" = []\")"
   ]
  },
  {
   "cell_type": "markdown",
   "id": "3db4342a-f8d2-4daf-99b3-efcba006f106",
   "metadata": {},
   "source": [
    "## Dynamic value setter"
   ]
  },
  {
   "cell_type": "code",
   "execution_count": 10,
   "id": "ddd624b5-2a21-4e2b-b106-6bcee292a62a",
   "metadata": {},
   "outputs": [
    {
     "name": "stdout",
     "output_type": "stream",
     "text": [
      "#    column_field_feature_000.append(fake.EDIT_THIS__CHOOSE_A_PROVIDER())\n",
      "#    column_field_feature_001.append(fake.EDIT_THIS__CHOOSE_A_PROVIDER())\n",
      "#    column_field_feature_002.append(fake.EDIT_THIS__CHOOSE_A_PROVIDER())\n",
      "#    column_field_feature_003.append(fake.EDIT_THIS__CHOOSE_A_PROVIDER())\n",
      "#    column_field_feature_004.append(fake.EDIT_THIS__CHOOSE_A_PROVIDER())\n",
      "#    column_field_feature_005.append(fake.EDIT_THIS__CHOOSE_A_PROVIDER())\n"
     ]
    }
   ],
   "source": [
    "for i in range( n ):\n",
    "    print(\"#    column_field_feature_\" + str(i).zfill(3) + \".append(fake.EDIT_THIS__CHOOSE_A_PROVIDER())\")"
   ]
  },
  {
   "cell_type": "code",
   "execution_count": 11,
   "id": "f92bfdf4-fc8a-439f-b936-e9bbc59ab484",
   "metadata": {},
   "outputs": [],
   "source": [
    "column_field_feature_001 = []\n",
    "column_field_feature_002 = []\n",
    "column_field_feature_003 = []\n",
    "column_field_feature_004 = []\n",
    "column_field_feature_005 = []\n",
    "column_field_feature_006 = []\n",
    "column_field_feature_007 = []\n",
    "column_field_feature_008 = []\n",
    "column_field_feature_009 = []\n",
    "column_field_feature_010 = []\n",
    "column_field_feature_011 = []\n",
    "column_field_feature_012 = []\n",
    "column_field_feature_013 = []\n",
    "column_field_feature_014 = []\n",
    "column_field_feature_015 = []\n",
    "column_field_feature_016 = []\n",
    "column_field_feature_017 = []\n",
    "column_field_feature_018 = []\n",
    "column_field_feature_019 = []\n",
    "column_field_feature_020 = []\n",
    "column_field_feature_021 = []\n",
    "column_field_feature_022 = []\n",
    "column_field_feature_023 = []\n",
    "column_field_feature_024 = []\n",
    "column_field_feature_025 = []\n",
    "column_field_feature_026 = []\n",
    "column_field_feature_027 = []\n",
    "column_field_feature_028 = []\n",
    "column_field_feature_029 = []\n",
    "column_field_feature_030 = []\n",
    "column_field_feature_031 = []\n",
    "column_field_feature_032 = []\n",
    "column_field_feature_033 = []\n",
    "column_field_feature_034 = []\n",
    "column_field_feature_035 = []\n",
    "column_field_feature_036 = []\n",
    "column_field_feature_037 = []\n",
    "column_field_feature_038 = []\n",
    "column_field_feature_039 = []\n",
    "column_field_feature_040 = []\n",
    "column_field_feature_041 = []\n",
    "column_field_feature_042 = []\n",
    "column_field_feature_043 = []\n",
    "column_field_feature_044 = []\n",
    "column_field_feature_045 = []\n",
    "column_field_feature_046 = []\n",
    "column_field_feature_047 = []\n",
    "column_field_feature_048 = []\n",
    "column_field_feature_049 = []\n",
    "column_field_feature_050 = []\n",
    "column_field_feature_051 = []\n",
    "column_field_feature_052 = []\n",
    "column_field_feature_053 = []\n",
    "column_field_feature_054 = []\n",
    "column_field_feature_055 = []\n",
    "column_field_feature_056 = []\n",
    "column_field_feature_057 = []\n",
    "column_field_feature_058 = []\n",
    "column_field_feature_059 = []\n",
    "column_field_feature_060 = []\n",
    "column_field_feature_061 = []\n",
    "column_field_feature_062 = []\n",
    "column_field_feature_063 = []\n",
    "column_field_feature_064 = []\n",
    "column_field_feature_065 = []\n",
    "column_field_feature_066 = []\n",
    "column_field_feature_067 = []\n",
    "column_field_feature_068 = []\n",
    "column_field_feature_069 = []\n",
    "column_field_feature_070 = []\n",
    "column_field_feature_071 = []\n",
    "column_field_feature_072 = []\n",
    "column_field_feature_073 = []\n",
    "column_field_feature_074 = []\n",
    "column_field_feature_075 = []\n",
    "column_field_feature_076 = []\n",
    "column_field_feature_077 = []\n",
    "column_field_feature_078 = []\n",
    "column_field_feature_079 = []\n",
    "column_field_feature_080 = []\n",
    "column_field_feature_081 = []\n",
    "column_field_feature_082 = []\n",
    "column_field_feature_083 = []\n",
    "column_field_feature_084 = []\n",
    "column_field_feature_085 = []\n",
    "column_field_feature_086 = []\n",
    "column_field_feature_087 = []\n",
    "column_field_feature_088 = []\n",
    "column_field_feature_089 = []\n",
    "column_field_feature_090 = []\n",
    "column_field_feature_091 = []\n",
    "column_field_feature_092 = []\n",
    "column_field_feature_093 = []\n",
    "column_field_feature_094 = []\n",
    "column_field_feature_095 = []\n",
    "column_field_feature_096 = []\n",
    "column_field_feature_097 = []\n",
    "column_field_feature_098 = []\n",
    "column_field_feature_099 = []\n",
    "column_field_feature_100 = []\n",
    "column_field_feature_101 = []\n",
    "column_field_feature_102 = []\n",
    "column_field_feature_103 = []\n",
    "column_field_feature_104 = []\n",
    "column_field_feature_105 = []\n",
    "column_field_feature_106 = []\n",
    "column_field_feature_107 = []\n",
    "column_field_feature_108 = []\n",
    "column_field_feature_109 = []\n",
    "column_field_feature_110 = []\n",
    "column_field_feature_111 = []\n",
    "column_field_feature_112 = []\n",
    "column_field_feature_113 = []\n",
    "column_field_feature_114 = []\n",
    "column_field_feature_115 = []\n",
    "column_field_feature_116 = []\n",
    "column_field_feature_117 = []\n",
    "column_field_feature_118 = []\n",
    "column_field_feature_119 = []\n",
    "column_field_feature_120 = []\n",
    "column_field_feature_121 = []\n",
    "column_field_feature_122 = []\n",
    "column_field_feature_123 = []\n",
    "column_field_feature_124 = []\n",
    "column_field_feature_125 = []\n",
    "column_field_feature_126 = []\n",
    "column_field_feature_127 = []\n",
    "column_field_feature_128 = []\n",
    "column_field_feature_129 = []\n",
    "column_field_feature_130 = []\n",
    "column_field_feature_131 = []\n",
    "column_field_feature_132 = []\n",
    "column_field_feature_133 = []\n",
    "column_field_feature_134 = []\n",
    "column_field_feature_135 = []\n",
    "column_field_feature_136 = []\n",
    "column_field_feature_137 = []\n",
    "column_field_feature_138 = []\n",
    "column_field_feature_139 = []\n",
    "column_field_feature_140 = []\n",
    "column_field_feature_141 = []\n",
    "column_field_feature_142 = []\n",
    "column_field_feature_143 = []\n",
    "column_field_feature_144 = []\n",
    "column_field_feature_145 = []\n",
    "column_field_feature_146 = []\n",
    "column_field_feature_147 = []\n",
    "column_field_feature_148 = []\n",
    "column_field_feature_149 = []\n",
    "column_field_feature_150 = []\n",
    "column_field_feature_151 = []\n",
    "column_field_feature_152 = []\n",
    "column_field_feature_153 = []\n",
    "column_field_feature_154 = []\n",
    "column_field_feature_155 = []\n",
    "column_field_feature_156 = []\n",
    "column_field_feature_157 = []\n",
    "column_field_feature_158 = []\n",
    "column_field_feature_159 = []\n",
    "column_field_feature_160 = []"
   ]
  },
  {
   "cell_type": "markdown",
   "id": "f88aa73f-a962-4b53-9e9f-ee5e1e8b06cc",
   "metadata": {},
   "source": [
    "## Fill lists with simulation data"
   ]
  },
  {
   "cell_type": "code",
   "execution_count": 16,
   "id": "98cedfc4-80e3-4885-893c-59ab7bb27057",
   "metadata": {},
   "outputs": [
    {
     "name": "stdout",
     "output_type": "stream",
     "text": [
      "CPU times: total: 0 ns\n",
      "Wall time: 1.01 ms\n"
     ]
    }
   ],
   "source": [
    "%%time\n",
    "\n",
    "for i in range( i, n ):\n",
    "    column_field_feature_001.append(i)\n",
    "    column_field_feature_002.append(fake.name())\n",
    "    column_field_feature_003.append(fake.address())\n",
    "    column_field_feature_004.append(fake.ipv4_public())\n",
    "    column_field_feature_005.append(fake.ipv4_private())\n",
    "    column_field_feature_006.append(fake.ipv6())\n",
    "#    column_field_feature_007.append(fake.())\n",
    "#    column_field_feature_008.append(fake.())\n",
    "#    column_field_feature_009.append(fake.())\n",
    "#    column_field_feature_010.append(fake.())\n",
    "#    column_field_feature_011.append(fake.())\n",
    "#    column_field_feature_012.append(fake.())\n",
    "#    column_field_feature_013.append(fake.())\n",
    "#    column_field_feature_014.append(fake.())\n",
    "#    column_field_feature_015.append(fake.())\n",
    "#    column_field_feature_016.append(fake.())\n",
    "#    column_field_feature_017.append(fake.())\n",
    "#    column_field_feature_018.append(fake.())\n",
    "#    column_field_feature_019.append(fake.())\n",
    "#    column_field_feature_020.append(fake.())\n",
    "#    column_field_feature_021.append(fake.())\n",
    "#    column_field_feature_022.append(fake.())\n",
    "#    column_field_feature_023.append(fake.())\n",
    "#    column_field_feature_024.append(fake.())\n",
    "#    column_field_feature_025.append(fake.())\n",
    "#    column_field_feature_026.append(fake.())\n",
    "#    column_field_feature_027.append(fake.())\n",
    "#    column_field_feature_028.append(fake.())\n",
    "#    column_field_feature_029.append(fake.())\n",
    "#    column_field_feature_030.append(fake.())\n",
    "#    column_field_feature_031.append(fake.())\n",
    "#    column_field_feature_032.append(fake.())\n",
    "#    column_field_feature_033.append(fake.())\n",
    "#    column_field_feature_034.append(fake.())\n",
    "#    column_field_feature_035.append(fake.())\n",
    "#    column_field_feature_036.append(fake.())\n",
    "#    column_field_feature_037.append(fake.())\n",
    "#    column_field_feature_038.append(fake.())\n",
    "#    column_field_feature_039.append(fake.())\n",
    "#    column_field_feature_040.append(fake.())\n",
    "#    column_field_feature_041.append(fake.())\n",
    "#    column_field_feature_042.append(fake.())\n",
    "#    column_field_feature_043.append(fake.())\n",
    "#    column_field_feature_044.append(fake.())\n",
    "#    column_field_feature_045.append(fake.())\n",
    "#    column_field_feature_046.append(fake.())\n",
    "#    column_field_feature_047.append(fake.())\n",
    "#    column_field_feature_048.append(fake.())\n",
    "#    column_field_feature_049.append(fake.())\n",
    "#    column_field_feature_050.append(fake.())\n",
    "#    column_field_feature_051.append(fake.())\n",
    "#    column_field_feature_052.append(fake.())\n",
    "#    column_field_feature_053.append(fake.())\n",
    "#    column_field_feature_054.append(fake.())\n",
    "#    column_field_feature_055.append(fake.())\n",
    "#    column_field_feature_056.append(fake.())\n",
    "#    column_field_feature_057.append(fake.())\n",
    "#    column_field_feature_058.append(fake.())\n",
    "#    column_field_feature_059.append(fake.())\n",
    "#    column_field_feature_060.append(fake.())\n",
    "#    column_field_feature_061.append(fake.())\n",
    "#    column_field_feature_062.append(fake.())\n",
    "#    column_field_feature_063.append(fake.())\n",
    "#    column_field_feature_064.append(fake.())\n",
    "#    column_field_feature_065.append(fake.())\n",
    "#    column_field_feature_066.append(fake.())\n",
    "#    column_field_feature_067.append(fake.())\n",
    "#    column_field_feature_068.append(fake.())\n",
    "#    column_field_feature_069.append(fake.())\n",
    "#    column_field_feature_070.append(fake.())\n",
    "#    column_field_feature_071.append(fake.())\n",
    "#    column_field_feature_072.append(fake.())\n",
    "#    column_field_feature_073.append(fake.())\n",
    "#    column_field_feature_074.append(fake.())\n",
    "#    column_field_feature_075.append(fake.())\n",
    "#    column_field_feature_076.append(fake.())\n",
    "#    column_field_feature_077.append(fake.())\n",
    "#    column_field_feature_078.append(fake.())\n",
    "#    column_field_feature_079.append(fake.())\n",
    "#    column_field_feature_080.append(fake.())\n",
    "#    column_field_feature_081.append(fake.())\n",
    "#    column_field_feature_082.append(fake.())\n",
    "#    column_field_feature_083.append(fake.())\n",
    "#    column_field_feature_084.append(fake.())\n",
    "#    column_field_feature_085.append(fake.())\n",
    "#    column_field_feature_086.append(fake.())\n",
    "#    column_field_feature_087.append(fake.())\n",
    "#    column_field_feature_088.append(fake.())\n",
    "#    column_field_feature_089.append(fake.())\n",
    "#    column_field_feature_090.append(fake.())\n",
    "#    column_field_feature_091.append(fake.())\n",
    "#    column_field_feature_092.append(fake.())\n",
    "#    column_field_feature_093.append(fake.())\n",
    "#    column_field_feature_094.append(fake.())\n",
    "#    column_field_feature_095.append(fake.())\n",
    "#    column_field_feature_096.append(fake.())\n",
    "#    column_field_feature_097.append(fake.())\n",
    "#    column_field_feature_098.append(fake.())\n",
    "#    column_field_feature_099.append(fake.())\n",
    "#    column_field_feature_100.append(fake.())\n",
    "#    column_field_feature_101.append(fake.())\n",
    "#    column_field_feature_102.append(fake.())\n",
    "#    column_field_feature_103.append(fake.())\n",
    "#    column_field_feature_104.append(fake.())\n",
    "#    column_field_feature_105.append(fake.())\n",
    "#    column_field_feature_106.append(fake.())\n",
    "#    column_field_feature_107.append(fake.())\n",
    "#    column_field_feature_108.append(fake.())\n",
    "#    column_field_feature_109.append(fake.())\n",
    "#    column_field_feature_110.append(fake.())\n",
    "#    column_field_feature_111.append(fake.())\n",
    "#    column_field_feature_112.append(fake.())\n",
    "#    column_field_feature_113.append(fake.())\n",
    "#    column_field_feature_114.append(fake.())\n",
    "#    column_field_feature_115.append(fake.())\n",
    "#    column_field_feature_116.append(fake.())\n",
    "#    column_field_feature_117.append(fake.())\n",
    "#    column_field_feature_118.append(fake.())\n",
    "#    column_field_feature_119.append(fake.())\n",
    "#    column_field_feature_120.append(fake.())\n",
    "#    column_field_feature_121.append(fake.())\n",
    "#    column_field_feature_122.append(fake.())\n",
    "#    column_field_feature_123.append(fake.())\n",
    "#    column_field_feature_124.append(fake.())\n",
    "#    column_field_feature_125.append(fake.())\n",
    "#    column_field_feature_126.append(fake.())\n",
    "#    column_field_feature_127.append(fake.())\n",
    "#    column_field_feature_128.append(fake.())\n",
    "#    column_field_feature_129.append(fake.())\n",
    "#    column_field_feature_130.append(fake.())\n",
    "#    column_field_feature_131.append(fake.())\n",
    "#    column_field_feature_132.append(fake.())\n",
    "#    column_field_feature_133.append(fake.())\n",
    "#    column_field_feature_134.append(fake.())\n",
    "#    column_field_feature_135.append(fake.())\n",
    "#    column_field_feature_136.append(fake.())\n",
    "#    column_field_feature_137.append(fake.())\n",
    "#    column_field_feature_138.append(fake.())\n",
    "#    column_field_feature_139.append(fake.())\n",
    "#    column_field_feature_140.append(fake.())\n",
    "#    column_field_feature_141.append(fake.())\n",
    "#    column_field_feature_142.append(fake.())\n",
    "#    column_field_feature_143.append(fake.())\n",
    "#    column_field_feature_144.append(fake.())\n",
    "#    column_field_feature_145.append(fake.())\n",
    "#    column_field_feature_146.append(fake.())\n",
    "#    column_field_feature_147.append(fake.())\n",
    "#    column_field_feature_148.append(fake.())\n",
    "#    column_field_feature_149.append(fake.())\n",
    "#    column_field_feature_150.append(fake.())\n",
    "#    column_field_feature_151.append(fake.())\n",
    "#    column_field_feature_152.append(fake.())\n",
    "#    column_field_feature_153.append(fake.())\n",
    "#    column_field_feature_154.append(fake.())\n",
    "#    column_field_feature_155.append(fake.())\n",
    "#    column_field_feature_156.append(fake.())\n",
    "#    column_field_feature_157.append(fake.())\n",
    "#    column_field_feature_158.append(fake.())\n",
    "#    column_field_feature_159.append(fake.())\n",
    "#    column_field_feature_160.append(fake.())"
   ]
  },
  {
   "cell_type": "markdown",
   "id": "654a0814-6fea-49ea-87ed-544cd05d7030",
   "metadata": {},
   "source": [
    "## Dynamic DF prepare"
   ]
  },
  {
   "cell_type": "code",
   "execution_count": 19,
   "id": "f4652fcb-80ca-48b1-a90f-c58d1b9ab204",
   "metadata": {},
   "outputs": [
    {
     "name": "stdout",
     "output_type": "stream",
     "text": [
      "               column_field_feature_001,\n",
      "               column_field_feature_002,\n",
      "               column_field_feature_003,\n",
      "               column_field_feature_004,\n",
      "               column_field_feature_005,\n"
     ]
    }
   ],
   "source": [
    "for i in range( 1, n ):\n",
    "    print( \"               column_field_feature_\" + str( i ).zfill(3) + \",\" )"
   ]
  },
  {
   "cell_type": "code",
   "execution_count": 20,
   "id": "72ad433b-bf48-493c-b9fd-69d155c88d50",
   "metadata": {},
   "outputs": [
    {
     "name": "stdout",
     "output_type": "stream",
     "text": [
      "'column_field_feature_001', \n",
      "'column_field_feature_002', \n",
      "'column_field_feature_003', \n",
      "'column_field_feature_004', \n",
      "'column_field_feature_005', \n"
     ]
    }
   ],
   "source": [
    "for i in range( 1, n ):\n",
    "    print( \"'column_field_feature_\" + str( i ).zfill(3) + \"', \" )"
   ]
  },
  {
   "cell_type": "code",
   "execution_count": 22,
   "id": "584ed035-c598-47ad-9ba1-0d008d633cac",
   "metadata": {},
   "outputs": [],
   "source": [
    "import pandas as pd"
   ]
  },
  {
   "cell_type": "code",
   "execution_count": 23,
   "id": "41b3d6d1-f3d2-428d-89eb-4deb548c6995",
   "metadata": {},
   "outputs": [],
   "source": [
    "df = pd.DataFrame(list(zip(column_field_feature_001,\n",
    "               column_field_feature_002,\n",
    "               column_field_feature_003,\n",
    "               column_field_feature_004,\n",
    "               column_field_feature_005\n",
    "                          )),\n",
    "               columns = ['column_field_feature_001', \n",
    "'column_field_feature_002', \n",
    "'column_field_feature_003', \n",
    "'column_field_feature_004', \n",
    "'column_field_feature_005'])"
   ]
  },
  {
   "cell_type": "code",
   "execution_count": 25,
   "id": "d9ab0a1e-d7a7-46eb-a9d9-c9e7649a1119",
   "metadata": {},
   "outputs": [],
   "source": [
    "output_filename = 'simulation_data'"
   ]
  },
  {
   "cell_type": "code",
   "execution_count": 26,
   "id": "de0621dc-74a9-4fca-a35b-5131a7047e7f",
   "metadata": {},
   "outputs": [],
   "source": [
    "df.to_csv(output_filename + '.csv', index = False)"
   ]
  },
  {
   "cell_type": "code",
   "execution_count": null,
   "id": "d9fe171e-6f5f-4f0a-8b05-039122010d1a",
   "metadata": {},
   "outputs": [],
   "source": [
    "df.to_json(output_filename + '.json')"
   ]
  },
  {
   "cell_type": "code",
   "execution_count": null,
   "id": "05f5cdc1-776e-4057-8ff5-8547da98a153",
   "metadata": {},
   "outputs": [],
   "source": [
    "df.to_json(output_filename + '.jsonl', orient='records', lines=True)"
   ]
  },
  {
   "cell_type": "code",
   "execution_count": null,
   "id": "fb1e9863-8a36-45e5-bcf3-842537d273ae",
   "metadata": {},
   "outputs": [],
   "source": [
    "df.to_parquet(output_filename + '.parquet.gzip',\n",
    "              compression = 'gzip')"
   ]
  },
  {
   "cell_type": "markdown",
   "id": "276924c5-e9e2-4a1f-974d-588908c526d8",
   "metadata": {},
   "source": [
    "## REFERENCES\n",
    "\n",
    "* https://www.youtube.com/watch?v=oS5PahnKf_E\n",
    "\n",
    "* https://linuxhint.com/timeit-jupyter-notebook/\n",
    "\n",
    "* https://www.google.com/search?q=python+sha-2&oq=python+sha-2&aqs=chrome..69i57j0i19i512j0i19i22i30l4j0i10i19i22i30j0i19i22i30j0i15i19i22i30j0i19i22i30.8307j0j7&sourceid=chrome&ie=UTF-8\n",
    "\n",
    "* https://stackoverflow.com/questions/553303/generate-a-random-date-between-two-other-dates\n",
    "\n",
    "* https://pypi.org/project/Faker/\n",
    "\n",
    "* https://faker.readthedocs.io/en/stable/providers.html\n",
    "\n",
    "* https://faker.readthedocs.io/en/stable/communityproviders.html\n",
    "\n",
    "\n",
    "\n",
    "* https://pandas.pydata.org/pandas-docs/version/1.1/reference/api/pandas.DataFrame.to_parquet.html\n",
    "\n",
    "* https://pandas.pydata.org/docs/reference/api/pandas.DataFrame.to_csv.html\n",
    "\n",
    "* https://pandas.pydata.org/docs/reference/api/pandas.DataFrame.to_json.html"
   ]
  }
 ],
 "metadata": {
  "kernelspec": {
   "display_name": "Python 3",
   "language": "python",
   "name": "python3"
  },
  "language_info": {
   "codemirror_mode": {
    "name": "ipython",
    "version": 3
   },
   "file_extension": ".py",
   "mimetype": "text/x-python",
   "name": "python",
   "nbconvert_exporter": "python",
   "pygments_lexer": "ipython3",
   "version": "3.10.4"
  }
 },
 "nbformat": 4,
 "nbformat_minor": 5
}
